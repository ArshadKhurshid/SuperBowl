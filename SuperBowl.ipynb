{
 "cells": [
  {
   "cell_type": "markdown",
   "metadata": {},
   "source": [
    "# Super Bowl Data Analysis"
   ]
  },
  {
   "cell_type": "markdown",
   "metadata": {},
   "source": [
    "## Import Data"
   ]
  },
  {
   "cell_type": "markdown",
   "metadata": {},
   "source": [
    "### Import packages"
   ]
  },
  {
   "cell_type": "code",
   "execution_count": 1,
   "metadata": {
    "collapsed": true
   },
   "outputs": [],
   "source": [
    "import pandas as pd\n",
    "import numpy as np\n",
    "import matplotlib.pyplot as plt\n",
    "import seaborn as sns"
   ]
  },
  {
   "cell_type": "markdown",
   "metadata": {},
   "source": [
    "### Import CSV file using panda"
   ]
  },
  {
   "cell_type": "code",
   "execution_count": 2,
   "metadata": {},
   "outputs": [
    {
     "data": {
      "text/html": [
       "<div>\n",
       "<style>\n",
       "    .dataframe thead tr:only-child th {\n",
       "        text-align: right;\n",
       "    }\n",
       "\n",
       "    .dataframe thead th {\n",
       "        text-align: left;\n",
       "    }\n",
       "\n",
       "    .dataframe tbody tr th {\n",
       "        vertical-align: top;\n",
       "    }\n",
       "</style>\n",
       "<table border=\"1\" class=\"dataframe\">\n",
       "  <thead>\n",
       "    <tr style=\"text-align: right;\">\n",
       "      <th></th>\n",
       "      <th>Date</th>\n",
       "      <th>SB</th>\n",
       "      <th>Attendance</th>\n",
       "      <th>QB  Winner</th>\n",
       "      <th>Coach Winner</th>\n",
       "      <th>Winner</th>\n",
       "      <th>Winning Pts</th>\n",
       "      <th>QB Loser</th>\n",
       "      <th>Coach Loser</th>\n",
       "      <th>Loser</th>\n",
       "      <th>...</th>\n",
       "      <th>City</th>\n",
       "      <th>State</th>\n",
       "      <th>Point Difference</th>\n",
       "      <th>Referee</th>\n",
       "      <th>Umpire</th>\n",
       "      <th>Head Linesman</th>\n",
       "      <th>Line Judge</th>\n",
       "      <th>Field Judge</th>\n",
       "      <th>Back Judge</th>\n",
       "      <th>Side Judge</th>\n",
       "    </tr>\n",
       "  </thead>\n",
       "  <tbody>\n",
       "    <tr>\n",
       "      <th>0</th>\n",
       "      <td>15-Jan-67</td>\n",
       "      <td>I</td>\n",
       "      <td>61946</td>\n",
       "      <td>Bart Starr</td>\n",
       "      <td>Vince Lombardi</td>\n",
       "      <td>Green Bay Packers</td>\n",
       "      <td>35</td>\n",
       "      <td>Len Dawson</td>\n",
       "      <td>Hank Stram</td>\n",
       "      <td>Kansas City Chiefs</td>\n",
       "      <td>...</td>\n",
       "      <td>Los Angeles</td>\n",
       "      <td>California</td>\n",
       "      <td>25</td>\n",
       "      <td>NaN</td>\n",
       "      <td>NaN</td>\n",
       "      <td>NaN</td>\n",
       "      <td>NaN</td>\n",
       "      <td>NaN</td>\n",
       "      <td>NaN</td>\n",
       "      <td>NaN</td>\n",
       "    </tr>\n",
       "    <tr>\n",
       "      <th>1</th>\n",
       "      <td>14-Jan-68</td>\n",
       "      <td>II</td>\n",
       "      <td>75546</td>\n",
       "      <td>Bart Starr</td>\n",
       "      <td>Vince Lombardi</td>\n",
       "      <td>Green Bay Packers</td>\n",
       "      <td>33</td>\n",
       "      <td>Daryle Lamonica</td>\n",
       "      <td>John Rauch</td>\n",
       "      <td>Oakland Raiders</td>\n",
       "      <td>...</td>\n",
       "      <td>Miami</td>\n",
       "      <td>Florida</td>\n",
       "      <td>19</td>\n",
       "      <td>NaN</td>\n",
       "      <td>NaN</td>\n",
       "      <td>NaN</td>\n",
       "      <td>NaN</td>\n",
       "      <td>NaN</td>\n",
       "      <td>NaN</td>\n",
       "      <td>NaN</td>\n",
       "    </tr>\n",
       "    <tr>\n",
       "      <th>2</th>\n",
       "      <td>12-Jan-69</td>\n",
       "      <td>III</td>\n",
       "      <td>75389</td>\n",
       "      <td>Joe Namath</td>\n",
       "      <td>Weeb Ewbank</td>\n",
       "      <td>New York Jets</td>\n",
       "      <td>16</td>\n",
       "      <td>Earl Morrall, Johnny Unitas</td>\n",
       "      <td>Don Shula</td>\n",
       "      <td>Baltimore Colts</td>\n",
       "      <td>...</td>\n",
       "      <td>Miami</td>\n",
       "      <td>Florida</td>\n",
       "      <td>9</td>\n",
       "      <td>NaN</td>\n",
       "      <td>NaN</td>\n",
       "      <td>NaN</td>\n",
       "      <td>NaN</td>\n",
       "      <td>NaN</td>\n",
       "      <td>NaN</td>\n",
       "      <td>NaN</td>\n",
       "    </tr>\n",
       "    <tr>\n",
       "      <th>3</th>\n",
       "      <td>11-Jan-70</td>\n",
       "      <td>IV</td>\n",
       "      <td>80562</td>\n",
       "      <td>Len Dawson, Mike Livingston</td>\n",
       "      <td>Hank Stram</td>\n",
       "      <td>Kansas City Chiefs</td>\n",
       "      <td>23</td>\n",
       "      <td>Joe Kapp</td>\n",
       "      <td>Bud Grant</td>\n",
       "      <td>Minnesota Vikings</td>\n",
       "      <td>...</td>\n",
       "      <td>New Orleans</td>\n",
       "      <td>Louisiana</td>\n",
       "      <td>16</td>\n",
       "      <td>NaN</td>\n",
       "      <td>NaN</td>\n",
       "      <td>NaN</td>\n",
       "      <td>NaN</td>\n",
       "      <td>NaN</td>\n",
       "      <td>NaN</td>\n",
       "      <td>NaN</td>\n",
       "    </tr>\n",
       "    <tr>\n",
       "      <th>4</th>\n",
       "      <td>17-Jan-71</td>\n",
       "      <td>V</td>\n",
       "      <td>79204</td>\n",
       "      <td>Earl Morrall , Johnny Unitas</td>\n",
       "      <td>Don McCafferty</td>\n",
       "      <td>Baltimore Colts</td>\n",
       "      <td>16</td>\n",
       "      <td>Craig Morton</td>\n",
       "      <td>Tom Landry</td>\n",
       "      <td>Dallas Cowboys</td>\n",
       "      <td>...</td>\n",
       "      <td>Miami</td>\n",
       "      <td>Florida</td>\n",
       "      <td>3</td>\n",
       "      <td>Norm Schachter</td>\n",
       "      <td>Paul Trepinski</td>\n",
       "      <td>Ed Marion</td>\n",
       "      <td>Jack Fette</td>\n",
       "      <td>Fritz Graf</td>\n",
       "      <td>Hugh Gamber</td>\n",
       "      <td>NaN</td>\n",
       "    </tr>\n",
       "  </tbody>\n",
       "</table>\n",
       "<p>5 rows × 23 columns</p>\n",
       "</div>"
      ],
      "text/plain": [
       "        Date   SB  Attendance                    QB  Winner    Coach Winner  \\\n",
       "0  15-Jan-67    I       61946                    Bart Starr  Vince Lombardi   \n",
       "1  14-Jan-68   II       75546                    Bart Starr  Vince Lombardi   \n",
       "2  12-Jan-69  III       75389                    Joe Namath     Weeb Ewbank   \n",
       "3  11-Jan-70   IV       80562   Len Dawson, Mike Livingston      Hank Stram   \n",
       "4  17-Jan-71    V       79204  Earl Morrall , Johnny Unitas  Don McCafferty   \n",
       "\n",
       "               Winner  Winning Pts                     QB Loser Coach Loser  \\\n",
       "0   Green Bay Packers           35                   Len Dawson  Hank Stram   \n",
       "1   Green Bay Packers           33             Daryle Lamonica   John Rauch   \n",
       "2       New York Jets           16  Earl Morrall, Johnny Unitas   Don Shula   \n",
       "3  Kansas City Chiefs           23                     Joe Kapp   Bud Grant   \n",
       "4     Baltimore Colts           16                 Craig Morton  Tom Landry   \n",
       "\n",
       "                Loser    ...             City       State Point Difference  \\\n",
       "0  Kansas City Chiefs    ...      Los Angeles  California               25   \n",
       "1     Oakland Raiders    ...            Miami     Florida               19   \n",
       "2     Baltimore Colts    ...            Miami     Florida                9   \n",
       "3   Minnesota Vikings    ...      New Orleans   Louisiana               16   \n",
       "4      Dallas Cowboys    ...            Miami     Florida                3   \n",
       "\n",
       "          Referee          Umpire  Head Linesman  Line Judge Field Judge  \\\n",
       "0             NaN             NaN            NaN         NaN         NaN   \n",
       "1             NaN             NaN            NaN         NaN         NaN   \n",
       "2             NaN             NaN            NaN         NaN         NaN   \n",
       "3             NaN             NaN            NaN         NaN         NaN   \n",
       "4  Norm Schachter  Paul Trepinski      Ed Marion  Jack Fette  Fritz Graf   \n",
       "\n",
       "    Back Judge Side Judge  \n",
       "0          NaN        NaN  \n",
       "1          NaN        NaN  \n",
       "2          NaN        NaN  \n",
       "3          NaN        NaN  \n",
       "4  Hugh Gamber        NaN  \n",
       "\n",
       "[5 rows x 23 columns]"
      ]
     },
     "execution_count": 2,
     "metadata": {},
     "output_type": "execute_result"
    }
   ],
   "source": [
    "super_bowl = pd.read_csv('Super_Bowl.csv', sep=',', encoding = \"ISO-8859-1\")\n",
    "super_bowl.head()"
   ]
  },
  {
   "cell_type": "markdown",
   "metadata": {},
   "source": [
    "#### Column name foe Super bowl Dataframe"
   ]
  },
  {
   "cell_type": "code",
   "execution_count": 3,
   "metadata": {},
   "outputs": [
    {
     "data": {
      "text/plain": [
       "Index(['Date', 'SB', 'Attendance', 'QB  Winner', 'Coach Winner', 'Winner',\n",
       "       'Winning Pts', 'QB Loser', 'Coach Loser', 'Loser', 'Losing Pts', 'MVP',\n",
       "       'Stadium', 'City', 'State', 'Point Difference', 'Referee', 'Umpire',\n",
       "       'Head Linesman', 'Line Judge', 'Field Judge', 'Back Judge',\n",
       "       'Side Judge'],\n",
       "      dtype='object')"
      ]
     },
     "execution_count": 3,
     "metadata": {},
     "output_type": "execute_result"
    }
   ],
   "source": [
    "super_bowl.columns"
   ]
  },
  {
   "cell_type": "markdown",
   "metadata": {},
   "source": [
    "#### Plot Winner frequency"
   ]
  },
  {
   "cell_type": "code",
   "execution_count": 19,
   "metadata": {},
   "outputs": [
    {
     "data": {
      "image/png": "[encoded data removed]",
      "text/plain": [
       "<matplotlib.figure.Figure at 0x18c7a7366a0>"
      ]
     },
     "metadata": {},
     "output_type": "display_data"
    }
   ],
   "source": [
    "winner = super_bowl['Winner'].value_counts()\n",
    "sns.barplot(y=winner.index, x=winner.values)\n",
    "plt.title('Team with Max Win')\n",
    "plt.xlabel('Win Count')\n",
    "plt.ylabel('Team Name')\n",
    "fig=plt.gcf()\n",
    "fig.set_size_inches(15,10)\n",
    "plt.show()"
   ]
  }
 ],
 "metadata": {
  "kernelspec": {
   "display_name": "Python 3",
   "language": "python",
   "name": "python3"
  },
  "language_info": {
   "codemirror_mode": {
    "name": "ipython",
    "version": 3
   },
   "file_extension": ".py",
   "mimetype": "text/x-python",
   "name": "python",
   "nbconvert_exporter": "python",
   "pygments_lexer": "ipython3",
   "version": "3.6.3"
  }
 },
 "nbformat": 4,
 "nbformat_minor": 2
}
